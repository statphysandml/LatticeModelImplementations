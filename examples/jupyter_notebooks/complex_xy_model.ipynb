{
 "cells": [
  {
   "cell_type": "markdown",
   "metadata": {},
   "source": [
    "# Complex XY Model"
   ]
  },
  {
   "cell_type": "code",
   "execution_count": null,
   "metadata": {},
   "outputs": [],
   "source": [
    "import numpy as np\n",
    "import pandas as pd\n",
    "\n",
    "from pystatplottools.pdf_env.loading_figure_mode import loading_figure_mode\n",
    "fma, plt = loading_figure_mode(develop=True) # develop=False will export the generated figures as pngs into \"./data/RectangleData\"\n",
    "plt.style.use('seaborn-dark-palette')\n",
    "\n",
    "if 'root_dir' not in locals():\n",
    "    # Navigate to simulations/ComplexXYModel directory as simulation root directory\n",
    "    import os\n",
    "    os.chdir(\"../simulations/ComplexXYModel\")\n",
    "    root_dir = os.getcwd()\n",
    "\n",
    "# To be able to compute custom measures\n",
    "import sys\n",
    "sys.path.append(\"./../../python_scripts\")\n",
    "    \n",
    "mcmc_model_dir = \"ComplexXYModelComplexLangevin/\"\n",
    "mcmc_data_dir = root_dir + \"/data/\" + mcmc_model_dir\n",
    "mcmc_results_dir = root_dir + \"/results/\" + mcmc_model_dir\n",
    "\n",
    "data_dir = root_dir + \"/data/\" + mcmc_model_dir\n",
    "results_dir = root_dir + \"/results/\" + mcmc_model_dir"
   ]
  },
  {
   "cell_type": "markdown",
   "metadata": {},
   "source": [
    "## MCMC Results"
   ]
  },
  {
   "cell_type": "markdown",
   "metadata": {},
   "source": [
    "### Expectation Values"
   ]
  },
  {
   "cell_type": "code",
   "execution_count": null,
   "metadata": {},
   "outputs": [],
   "source": [
    "from mcmctools.modes.expectation_value import load_expectation_value_results\n",
    "expectation_values = load_expectation_value_results(files_dir=\"ComplexXYModelComplexLangevin\")\n",
    "# Insert Mu as column (as floating number)\n",
    "expectation_values.insert(0, \"Mu\", expectation_values.index.values.astype(np.float))\n",
    "expectation_values * 2"
   ]
  },
  {
   "cell_type": "code",
   "execution_count": null,
   "metadata": {},
   "outputs": [],
   "source": [
    "np.sqrt(0.2)"
   ]
  },
  {
   "cell_type": "code",
   "execution_count": null,
   "metadata": {},
   "outputs": [],
   "source": []
  }
 ],
 "metadata": {
  "kernelspec": {
   "display_name": "Python 3",
   "language": "python",
   "name": "python3"
  },
  "language_info": {
   "codemirror_mode": {
    "name": "ipython",
    "version": 3
   },
   "file_extension": ".py",
   "mimetype": "text/x-python",
   "name": "python",
   "nbconvert_exporter": "python",
   "pygments_lexer": "ipython3",
   "version": "3.7.7"
  }
 },
 "nbformat": 4,
 "nbformat_minor": 4
}
