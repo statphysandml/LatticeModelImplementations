{
 "cells": [
  {
   "cell_type": "markdown",
   "metadata": {},
   "source": [
    "# Polynomial Model"
   ]
  },
  {
   "cell_type": "code",
   "execution_count": null,
   "metadata": {},
   "outputs": [],
   "source": [
    "import numpy as np\n",
    "import pandas as pd\n",
    "\n",
    "from pystatplottools.pdf_env.loading_figure_mode import loading_figure_mode\n",
    "fma, plt = loading_figure_mode(develop=True) # develop=False will export the generated figures as pngs into \"./data/RectangleData\"\n",
    "plt.style.use('seaborn-dark-palette')\n",
    "\n",
    "if 'root_dir' not in locals():\n",
    "    # Navigate to simulations/PolynomialModel directory as simulation root directory\n",
    "    import os\n",
    "    os.chdir(\"../simulations/PolynomialModel\")\n",
    "    root_dir = os.getcwd()\n",
    "\n",
    "# To be able to compute custom measures\n",
    "import sys\n",
    "sys.path.append(\"./../../python_scripts\")\n",
    "    \n",
    "mcmc_model_dir = \"PolynomialModelLangevin/\"\n",
    "mcmc_data_dir = root_dir + \"/data/\" + mcmc_model_dir\n",
    "mcmc_results_dir = root_dir + \"/results/\" + mcmc_model_dir\n",
    "\n",
    "data_dir = root_dir + \"/data/\" + mcmc_model_dir\n",
    "results_dir = root_dir + \"/results/\" + mcmc_model_dir"
   ]
  },
  {
   "cell_type": "markdown",
   "metadata": {},
   "source": [
    "## MCMC Results"
   ]
  },
  {
   "cell_type": "markdown",
   "metadata": {},
   "source": [
    "### Expectation Values"
   ]
  },
  {
   "cell_type": "markdown",
   "metadata": {},
   "source": [
    "For the simulation with a single Markov Chain"
   ]
  },
  {
   "cell_type": "code",
   "execution_count": null,
   "metadata": {},
   "outputs": [],
   "source": [
    "from mcmctools.modes.expectation_value import load_expectation_value_results\n",
    "expectation_values = load_expectation_value_results(files_dir=\"PolynomialModelLangevin\")\n",
    "expectation_values"
   ]
  },
  {
   "cell_type": "markdown",
   "metadata": {},
   "source": [
    "## Data Evaluation with the pystatplottools Library"
   ]
  },
  {
   "cell_type": "markdown",
   "metadata": {},
   "source": [
    "### Histogram of the Samples"
   ]
  },
  {
   "cell_type": "code",
   "execution_count": null,
   "metadata": {},
   "outputs": [],
   "source": [
    "# Load all data\n",
    "from mcmctools.loading.loading import load_data\n",
    "\n",
    "# skipcols=[] Can be used to load only certain columns of the different files\n",
    "data, filenames = load_data(files_dir=mcmc_model_dir, running_parameter=\"default\",\n",
    "                            identifier=\"expectation_value\")  # , skipcols=[\"Config\"])\n",
    "from mcmctools.utils.json import load_configs\n",
    "sim_params, execution_params, running_parameter = load_configs(\n",
    "    files_dir=mcmc_model_dir, mode=\"expectation_value\", project_base_dir=\"./\")\n",
    "data"
   ]
  },
  {
   "cell_type": "markdown",
   "metadata": {},
   "source": [
    "#### Compute Energy / Action"
   ]
  },
  {
   "cell_type": "code",
   "execution_count": null,
   "metadata": {},
   "outputs": [],
   "source": [
    "polynomial_action = lambda x, a, b, c: a / 4.0 * np.power(x, 4.0) + b / 2.0 * np.power(x, 2.0) + c\n",
    "data[\"Action\"] = data[\"Config\"].apply(lambda x: polynomial_action(x, 1.0, 1.0, 0.0))\n",
    "data"
   ]
  },
  {
   "cell_type": "code",
   "execution_count": null,
   "metadata": {},
   "outputs": [],
   "source": [
    "from pystatplottools.distributions.marginal_distribution import MarginalDistribution\n",
    "\n",
    "histograms = MarginalDistribution(data=data)\n",
    "\n",
    "range_min, range_max = histograms.extract_min_max_range_values([\"Config\", \"Action\"])\n",
    "histograms.compute(\n",
    "    axes_indices=[\"Config\", \"Action\"],\n",
    "    range_min=[range_min[0], 0.0001],\n",
    "    range_max=range_max,\n",
    "    nbins=[10, 20],\n",
    "    statistic='probability',\n",
    "    bin_scales=['linear', 'logarithmic']\n",
    ")\n",
    "\n",
    "linearized_histograms = histograms.linearize(\n",
    "    order_by_bin=True,\n",
    "    bin_alignment=\"center\"\n",
    ")\n",
    "linearized_histograms"
   ]
  },
  {
   "cell_type": "markdown",
   "metadata": {},
   "source": [
    "#### Visualization"
   ]
  },
  {
   "cell_type": "code",
   "execution_count": null,
   "metadata": {},
   "outputs": [],
   "source": [
    "from pystatplottools.utils.bins_and_alignment import revert_align_bins\n",
    "\n",
    "\n",
    "fig, axes = fma.newfig(1.8, nrows=1, ncols=2, ratio=0.7, figsize=(10, 5))\n",
    "\n",
    "# Config Distribution\n",
    "\n",
    "binedges = revert_align_bins(\n",
    "    data_range=linearized_histograms.loc[\"Config\"][\"bin\"].values,\n",
    "    bin_alignment=\"center\"\n",
    ")\n",
    "density_distribution = linearized_histograms.loc[\"Config\"][\"default\"].values / (binedges[1:] - binedges[:-1])\n",
    "\n",
    "width = 0.9 * (binedges[1:] - binedges[:-1])\n",
    "\n",
    "axes[0].bar(\n",
    "    x=linearized_histograms.loc[\"Config\"][\"bin\"].values,\n",
    "    height=density_distribution,\n",
    "    width=width\n",
    ")\n",
    "\n",
    "x = np.linspace(-3, 3, 100)\n",
    "boltzmann_weight = np.exp(-1.0 * polynomial_action(x, 1.0, 1.0, 0.0))\n",
    "norm = np.sum(boltzmann_weight * (x[1] - x[0]))\n",
    "boltzmann_weight /= np.sum(boltzmann_weight * (x[1] - x[0]))\n",
    "axes[0].plot(x, boltzmann_weight, color=\"C{}\".format(1))\n",
    "\n",
    "axes[0].set_xlabel(\"Config\")\n",
    "axes[0].set_ylabel(\"P(Config)\")\n",
    "\n",
    "# Energy Distribution\n",
    "\n",
    "binedges = revert_align_bins(\n",
    "    data_range=linearized_histograms.loc[\"Action\"][\"bin\"].values,\n",
    "    bin_alignment=\"center\",\n",
    "    bin_scale=\"logarithmic\"\n",
    ")\n",
    "\n",
    "width = 0.6 * (binedges[1:] - binedges[:-1])\n",
    "\n",
    "density_distribution = linearized_histograms.loc[\"Action\"][\"default\"].values #  / (binedges[1:] - binedges[:-1])\n",
    "\n",
    "axes[1].bar(\n",
    "    x=linearized_histograms.loc[\"Action\"][\"bin\"].values,\n",
    "    height=density_distribution,\n",
    "    width=width\n",
    ")\n",
    "\n",
    "# Add Boltzmann distribution\n",
    "action_values = linearized_histograms.loc[\"Action\"][\"bin\"].values\n",
    "action_values_bins = revert_align_bins(\n",
    "    data_range=action_values,\n",
    "    bin_alignment=\"center\",\n",
    "    bin_scale=\"logarithmic\"\n",
    ")\n",
    "boltzmann_weight = np.exp(-1.0 * action_values) # / (action_values)\n",
    "boltzmann_weight /= np.sum(boltzmann_weight * (action_values_bins[1:] - action_values_bins[:-1]))\n",
    "axes[1].plot(action_values, boltzmann_weight, color=\"C{}\".format(1))\n",
    "\n",
    "axes[1].set_xlabel(\"Action\")\n",
    "axes[1].set_ylabel(\"P(Action)\")\n",
    "axes[1].set_xscale(\"Log\")\n",
    "# axes[1].set_yscale(\"Log\")\n",
    "\n",
    "plt.tight_layout()\n",
    "\n",
    "fma.savefig(results_dir, \"histograms\")"
   ]
  },
  {
   "cell_type": "markdown",
   "metadata": {},
   "source": [
    "## Configurations as Pytorch Dataset"
   ]
  },
  {
   "cell_type": "markdown",
   "metadata": {},
   "source": [
    "We show how the mcmc configurations can be stored and loaded as a .pt file.\n",
    "\n",
    "(See also python_scripts/loading_configurations.py and python_scripts/pytorch_data_generation.py)\n",
    "\n",
    "Currently, this only works if a running_parameter has been defined. We therefore load the data from our second simulation."
   ]
  },
  {
   "cell_type": "markdown",
   "metadata": {},
   "source": [
    "### Preparation"
   ]
  },
  {
   "cell_type": "code",
   "execution_count": null,
   "metadata": {},
   "outputs": [],
   "source": [
    "data_generator_args = {\n",
    "    # ConfigDataGenerator Args\n",
    "    \"data_type\": \"target_param\",\n",
    "    \"complex_config\": True,\n",
    "    # Args for ConfigurationLoader\n",
    "    \"path\": mcmc_data_dir,\n",
    "    \"total_number_of_data_per_file\": 100000,\n",
    "    \"identifier\": \"expectation_value\",\n",
    "    \"running_parameter\": \"lambda_imag\",\n",
    "    \"chunksize\": 400  # If no chunksize is given, all data is loaded at once\n",
    "}\n",
    "\n",
    "# Prepare in memory dataset\n",
    "from pystatplottools.pytorch_data_generation.data_generation.datagenerationroutines import prepare_in_memory_dataset\n",
    "from mcmctools.pytorch.data_generation.datagenerationroutines import data_generator_factory\n",
    "\n",
    "prepare_in_memory_dataset(\n",
    "    root=data_dir,\n",
    "    batch_size=128,\n",
    "    data_generator_args=data_generator_args,\n",
    "    data_generator_name=\"BatchConfigDataGenerator\",\n",
    "    data_generator_factory=data_generator_factory\n",
    ")"
   ]
  },
  {
   "cell_type": "markdown",
   "metadata": {},
   "source": [
    "### Generating and Loading the Dataset"
   ]
  },
  {
   "cell_type": "code",
   "execution_count": null,
   "metadata": {},
   "outputs": [],
   "source": [
    "# Load in memory dataset\n",
    "from pystatplottools.pytorch_data_generation.data_generation.datagenerationroutines import load_in_memory_dataset\n",
    "\n",
    "# The dataset is generated and stored as a .pt file in the data_dir/data directory the first time this function is called. Otherwise the .pt is loaded.\n",
    "data_loader = load_in_memory_dataset(\n",
    "    root=data_dir, batch_size=128, data_generator_factory=data_generator_factory, slices=None, shuffle=True,\n",
    "    num_workers=0, rebuild=False\n",
    "    # sample_data_generator_name=\"ConfigDataGenerator\"  # optional: for a generation of new samples\n",
    ")\n",
    "\n",
    "# Load training data\n",
    "for batch_idx, batch in enumerate(data_loader):\n",
    "    data, target = batch\n",
    "    # print(batch_idx, len(data))"
   ]
  },
  {
   "cell_type": "code",
   "execution_count": null,
   "metadata": {},
   "outputs": [],
   "source": []
  }
 ],
 "metadata": {
  "kernelspec": {
   "display_name": "Python 3",
   "language": "python",
   "name": "python3"
  },
  "language_info": {
   "codemirror_mode": {
    "name": "ipython",
    "version": 3
   },
   "file_extension": ".py",
   "mimetype": "text/x-python",
   "name": "python",
   "nbconvert_exporter": "python",
   "pygments_lexer": "ipython3",
   "version": "3.7.7"
  }
 },
 "nbformat": 4,
 "nbformat_minor": 4
}
