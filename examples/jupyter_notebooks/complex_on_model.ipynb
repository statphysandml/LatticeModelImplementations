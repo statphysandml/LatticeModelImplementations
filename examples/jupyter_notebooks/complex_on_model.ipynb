{
 "cells": [
  {
   "cell_type": "markdown",
   "metadata": {},
   "source": [
    "# Complex ON Model"
   ]
  },
  {
   "cell_type": "code",
   "execution_count": null,
   "metadata": {},
   "outputs": [],
   "source": [
    "import numpy as np\n",
    "import pandas as pd\n",
    "\n",
    "from pystatplottools.pdf_env.loading_figure_mode import loading_figure_mode\n",
    "fma, plt = loading_figure_mode(develop=True) # develop=False will export the generated figures as pngs into \"./data/RectangleData\"\n",
    "plt.style.use('seaborn-dark-palette')\n",
    "\n",
    "if 'root_dir' not in locals():\n",
    "    # Navigate to simulations/ComplexONModel directory as simulation root directory\n",
    "    import os\n",
    "    os.chdir(\"../simulations/ComplexONModel\")\n",
    "    root_dir = os.getcwd()\n",
    "\n",
    "# To be able to compute custom measures\n",
    "import sys\n",
    "sys.path.append(\"./../../python_scripts\")\n",
    "    \n",
    "mcmc_model_dir = \"ComplexONModelComplexLangevin/\"\n",
    "mcmc_data_dir = root_dir + \"/data/\" + mcmc_model_dir\n",
    "mcmc_results_dir = root_dir + \"/results/\" + mcmc_model_dir\n",
    "\n",
    "data_dir = root_dir + \"/data/\" + mcmc_model_dir\n",
    "results_dir = root_dir + \"/results/\" + mcmc_model_dir"
   ]
  },
  {
   "cell_type": "markdown",
   "metadata": {},
   "source": [
    "## MCMC Results"
   ]
  },
  {
   "cell_type": "markdown",
   "metadata": {},
   "source": [
    "### Expectation Values"
   ]
  },
  {
   "cell_type": "code",
   "execution_count": null,
   "metadata": {},
   "outputs": [],
   "source": [
    "from mcmctools.modes.expectation_value import load_expectation_value_results\n",
    "expectation_values = load_expectation_value_results(files_dir=\"ComplexONModelComplexLangevin\")\n",
    "# Insert KappaImag as column (as floating number)\n",
    "expectation_values.insert(0, \"KappaImag\", expectation_values.index.values.astype(np.float))\n",
    "expectation_values"
   ]
  },
  {
   "cell_type": "code",
   "execution_count": null,
   "metadata": {},
   "outputs": [],
   "source": [
    "fig, ax = fma.newfig(1.4, figsize=(10, 7))\n",
    "\n",
    "ax.plot(expectation_values[\"KappaImag\"], np.real(expectation_values[\"ExpVal\", \"3\"].values), \"o-\")\n",
    "\n",
    "ax.set_xlabel(\"Beta\")\n",
    "ax.set_ylabel(\"Average Plaquette\")\n",
    "\n",
    "plt.tight_layout()\n",
    "\n",
    "fma.savefig(results_dir, \"average_plaquette\")"
   ]
  },
  {
   "cell_type": "markdown",
   "metadata": {},
   "source": [
    "## Configurations as Pytorch Dataset"
   ]
  },
  {
   "cell_type": "markdown",
   "metadata": {},
   "source": [
    "We show how the mcmc configurations can be stored and loaded as a .pt file.\n",
    "\n",
    "(See also python_scripts/loading_configurations.py and python_scripts/pytorch_data_generation.py)"
   ]
  },
  {
   "cell_type": "markdown",
   "metadata": {},
   "source": [
    "### Preparation"
   ]
  },
  {
   "cell_type": "code",
   "execution_count": null,
   "metadata": {},
   "outputs": [],
   "source": [
    "data_generator_args = {\n",
    "    # ConfigDataGenerator Args\n",
    "    \"data_type\": \"target_param\",\n",
    "    \"complex_config\": True,\n",
    "    # Args for ConfigurationLoader\n",
    "    \"path\": mcmc_data_dir,\n",
    "    \"total_number_of_data_per_file\": 500,\n",
    "    \"identifier\": \"expectation_value\",\n",
    "    \"running_parameter\": \"beta\"\n",
    "    # \"chunksize\": 100  # If no chunksize is given, all data is loaded at once\n",
    "}\n",
    "\n",
    "# Prepare in memory dataset\n",
    "from pystatplottools.pytorch_data_generation.data_generation.datagenerationroutines import prepare_in_memory_dataset\n",
    "from mcmctools.pytorch.data_generation.datagenerationroutines import data_generator_factory\n",
    "\n",
    "prepare_in_memory_dataset(\n",
    "    root=data_dir,\n",
    "    batch_size=89,\n",
    "    data_generator_args=data_generator_args,\n",
    "    data_generator_name=\"BatchConfigDataGenerator\",\n",
    "    data_generator_factory=data_generator_factory\n",
    ")"
   ]
  },
  {
   "cell_type": "markdown",
   "metadata": {},
   "source": [
    "### Generating and Loading the Dataset"
   ]
  },
  {
   "cell_type": "code",
   "execution_count": null,
   "metadata": {},
   "outputs": [],
   "source": [
    "# Load in memory dataset\n",
    "from pystatplottools.pytorch_data_generation.data_generation.datagenerationroutines import load_in_memory_dataset\n",
    "\n",
    "# The dataset is generated and stored as a .pt file in the data_dir/data directory the first time this function is called. Otherwise the .pt is loaded.\n",
    "data_loader = load_in_memory_dataset(\n",
    "    root=data_dir, batch_size=16, data_generator_factory=data_generator_factory, slices=None, shuffle=True,\n",
    "    num_workers=0, rebuild=False\n",
    "    # sample_data_generator_name=\"ConfigDataGenerator\"  # optional: for a generation of new samples\n",
    ")\n",
    "\n",
    "# Load training data\n",
    "for batch_idx, batch in enumerate(data_loader):\n",
    "    data, target = batch\n",
    "    # print(batch_idx, len(data))"
   ]
  },
  {
   "cell_type": "code",
   "execution_count": null,
   "metadata": {},
   "outputs": [],
   "source": [
    "### Inspection of the Dataset - Sample Visualization"
   ]
  },
  {
   "cell_type": "code",
   "execution_count": null,
   "metadata": {},
   "outputs": [],
   "source": [
    "from pystatplottools.visualization import sample_visualization\n",
    "\n",
    "config_dim = (64, 64)  # Dimension of the data\n",
    "ab = (-1, 1)  # Data is expected to be in the range (-1, 1)\n",
    "\n",
    "# Random sample\n",
    "config, label = data_loader.dataset.get_random_sample()\n",
    "\n",
    "# Alternative\n",
    "# dataset_inspector = data_loader.get_dataset_inspector()\n",
    "# config, label = dataset_inspector.sampler()\n",
    "\n",
    "batch, batch_label = data_loader.dataset.get_random_batch(108)"
   ]
  },
  {
   "cell_type": "code",
   "execution_count": null,
   "metadata": {},
   "outputs": [],
   "source": [
    "# Single Sample\n",
    "sample_visualization.fd_im_single_sample(sample=config, label=label, config_dim=config_dim, ab=ab,\n",
    "                                         fma=fma, filename=\"single_sample\", directory=results_dir, figsize=(10, 4));"
   ]
  },
  {
   "cell_type": "code",
   "execution_count": null,
   "metadata": {},
   "outputs": [],
   "source": [
    "# Batch with labels\n",
    "sample_visualization.fd_im_batch(batch, batch_labels=batch_label, num_samples=9, dim=(3, 3),\n",
    "                                 config_dim=config_dim, ab=ab,\n",
    "                                 fma=fma, filename=\"batch\", directory=results_dir, width=2.3, ratio=1.0, figsize=(12, 12));"
   ]
  },
  {
   "cell_type": "code",
   "execution_count": null,
   "metadata": {},
   "outputs": [],
   "source": [
    "# Batch grid\n",
    "sample_visualization.fd_im_batch_grid(batch, config_dim=config_dim, ab=ab,\n",
    "                                      fma=fma, filename=\"batch_grid\", directory=results_dir);"
   ]
  }
 ],
 "metadata": {
  "kernelspec": {
   "display_name": "Python 3",
   "language": "python",
   "name": "python3"
  },
  "language_info": {
   "codemirror_mode": {
    "name": "ipython",
    "version": 3
   },
   "file_extension": ".py",
   "mimetype": "text/x-python",
   "name": "python",
   "nbconvert_exporter": "python",
   "pygments_lexer": "ipython3",
   "version": "3.7.7"
  }
 },
 "nbformat": 4,
 "nbformat_minor": 4
}
