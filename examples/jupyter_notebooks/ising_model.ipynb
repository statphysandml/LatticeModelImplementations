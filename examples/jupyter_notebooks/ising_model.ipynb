{
 "cells": [
  {
   "cell_type": "markdown",
   "metadata": {},
   "source": [
    "# Ising Model"
   ]
  },
  {
   "cell_type": "code",
   "execution_count": null,
   "metadata": {},
   "outputs": [],
   "source": [
    "import numpy as np\n",
    "import pandas as pd\n",
    "\n",
    "from pystatplottools.pdf_env.loading_figure_mode import loading_figure_mode\n",
    "fma, plt = loading_figure_mode(develop=True) # develop=False will export the generated figures as pngs into \"./data/RectangleData\"\n",
    "plt.style.use('seaborn-dark-palette')\n",
    "\n",
    "if 'root_dir' not in locals():\n",
    "    # Navigate to simulations/IsingModel directory as simulation root directory\n",
    "    import os\n",
    "    os.chdir(\"../simulations/IsingModel\")\n",
    "    root_dir = os.getcwd()\n",
    "\n",
    "# To be able to compute custom measures\n",
    "import sys\n",
    "sys.path.append(\"./../../python_scripts\")\n",
    "    \n",
    "mcmc_model_dir = \"IsingModelMetropolis/\"\n",
    "mcmc_data_dir = root_dir + \"/data/\" + mcmc_model_dir\n",
    "mcmc_results_dir = root_dir + \"/results/\" + mcmc_model_dir\n",
    "\n",
    "data_dir = root_dir + \"/data/\" + mcmc_model_dir\n",
    "results_dir = root_dir + \"/results/\" + mcmc_model_dir"
   ]
  },
  {
   "cell_type": "markdown",
   "metadata": {},
   "source": [
    "## MCMC Results"
   ]
  },
  {
   "cell_type": "markdown",
   "metadata": {},
   "source": [
    "### Expectation Values"
   ]
  },
  {
   "cell_type": "code",
   "execution_count": null,
   "metadata": {},
   "outputs": [],
   "source": [
    "from mcmctools.modes.expectation_value import load_expectation_value_results\n",
    "expectation_values = load_expectation_value_results(files_dir=\"IsingModelMetropolis\")\n",
    "expectation_values"
   ]
  },
  {
   "cell_type": "markdown",
   "metadata": {},
   "source": [
    "## Correlation Times"
   ]
  },
  {
   "cell_type": "code",
   "execution_count": null,
   "metadata": {},
   "outputs": [],
   "source": [
    "from pystatplottools.utils.utils import load_json\n",
    "# Loaded from different simulation\n",
    "correlation_times = load_json(\"./results/IsingModelMetropolis/correlation_time_results.json\")\n",
    "print(correlation_times)"
   ]
  },
  {
   "cell_type": "markdown",
   "metadata": {},
   "source": [
    "## Configurations as Pytorch Dataset"
   ]
  },
  {
   "cell_type": "markdown",
   "metadata": {},
   "source": [
    "We show how the mcmc configurations can be stored and loaded as a .pt file.\n",
    "\n",
    "(See also python_scripts/loading_configurations.py and python_scripts/pytorch_data_generation.py)"
   ]
  },
  {
   "cell_type": "markdown",
   "metadata": {},
   "source": [
    "### Preparation"
   ]
  },
  {
   "cell_type": "code",
   "execution_count": null,
   "metadata": {},
   "outputs": [],
   "source": [
    "data_generator_args = {\n",
    "    # ConfigDataGenerator Args\n",
    "    \"data_type\": \"target_param\",\n",
    "    \"complex_config\": True,\n",
    "    # Args for ConfigurationLoader\n",
    "    \"path\": mcmc_data_dir,\n",
    "    \"total_number_of_data_per_file\": 10000,\n",
    "    \"identifier\": \"expectation_value\",\n",
    "    \"running_parameter\": \"beta\",\n",
    "    \"chunksize\": 400  # If no chunksize is given, all data is loaded at once\n",
    "}\n",
    "\n",
    "# Prepare in memory dataset\n",
    "from pystatplottools.pytorch_data_generation.data_generation.datagenerationroutines import prepare_in_memory_dataset\n",
    "from mcmctools.pytorch.data_generation.datagenerationroutines import data_generator_factory\n",
    "\n",
    "prepare_in_memory_dataset(\n",
    "    root=data_dir,\n",
    "    batch_size=89,\n",
    "    data_generator_args=data_generator_args,\n",
    "    data_generator_name=\"BatchConfigDataGenerator\",\n",
    "    data_generator_factory=data_generator_factory\n",
    ")"
   ]
  },
  {
   "cell_type": "markdown",
   "metadata": {},
   "source": [
    "### Generating and Loading the Dataset"
   ]
  },
  {
   "cell_type": "code",
   "execution_count": null,
   "metadata": {},
   "outputs": [],
   "source": [
    "# Load in memory dataset\n",
    "from pystatplottools.pytorch_data_generation.data_generation.datagenerationroutines import load_in_memory_dataset\n",
    "\n",
    "# The dataset is generated and stored as a .pt file in the data_dir/data directory the first time this function is called. Otherwise the .pt is loaded.\n",
    "data_loader = load_in_memory_dataset(\n",
    "    root=data_dir, batch_size=89, data_generator_factory=data_generator_factory, slices=None, shuffle=True,\n",
    "    num_workers=0, rebuild=False\n",
    "    # sample_data_generator_name=\"ConfigDataGenerator\"  # optional: for a generation of new samples\n",
    ")\n",
    "\n",
    "# Load training data\n",
    "for batch_idx, batch in enumerate(data_loader):\n",
    "    data, target = batch\n",
    "    # print(batch_idx, len(data))"
   ]
  },
  {
   "cell_type": "markdown",
   "metadata": {},
   "source": [
    "### Inspection of the Dataset - Sample Visualization"
   ]
  },
  {
   "cell_type": "code",
   "execution_count": null,
   "metadata": {},
   "outputs": [],
   "source": [
    "from pystatplottools.visualization import sample_visualization\n",
    "\n",
    "config_dim = (4, 4)  # Dimension of the data\n",
    "ab = (-1, 1)  # Data is expected to be in the range (-1, 1)\n",
    "\n",
    "# Random sample\n",
    "config, label = data_loader.dataset.get_random_sample()\n",
    "\n",
    "# Alternative\n",
    "# dataset_inspector = data_loader.get_dataset_inspector()\n",
    "# config, label = dataset_inspector.sampler()\n",
    "\n",
    "batch, batch_label = data_loader.dataset.get_random_batch(108)"
   ]
  },
  {
   "cell_type": "code",
   "execution_count": null,
   "metadata": {},
   "outputs": [],
   "source": [
    "# Single Sample\n",
    "sample_visualization.fd_im_single_sample(sample=config, label=label, config_dim=config_dim, ab=ab,\n",
    "                                         fma=fma, filename=\"single_sample\", directory=results_dir, figsize=(4, 4));"
   ]
  },
  {
   "cell_type": "code",
   "execution_count": null,
   "metadata": {},
   "outputs": [],
   "source": [
    "# Batch with labels\n",
    "sample_visualization.fd_im_batch(batch, batch_labels=batch_label, num_samples=36, dim=(6, 6),\n",
    "                                 config_dim=config_dim, ab=ab,\n",
    "                                 fma=fma, filename=\"batch\", directory=results_dir, width=2.3, ratio=1.0, figsize=(12, 12));"
   ]
  },
  {
   "cell_type": "code",
   "execution_count": null,
   "metadata": {},
   "outputs": [],
   "source": [
    "# Batch grid\n",
    "sample_visualization.fd_im_batch_grid(batch, config_dim=config_dim, ab=ab,\n",
    "                                      fma=fma, filename=\"batch_grid\", directory=results_dir);"
   ]
  },
  {
   "cell_type": "markdown",
   "metadata": {},
   "source": [
    "## Data Evaluation with the pystatplottools Library"
   ]
  },
  {
   "cell_type": "markdown",
   "metadata": {},
   "source": [
    "We demonstrate possible ways to use the pystatplottools library to evaluate results of a mcmc simulation."
   ]
  },
  {
   "cell_type": "markdown",
   "metadata": {},
   "source": [
    "### Preparation"
   ]
  },
  {
   "cell_type": "code",
   "execution_count": null,
   "metadata": {},
   "outputs": [],
   "source": [
    "# Load all data\n",
    "from mcmctools.loading.loading import load_data\n",
    "\n",
    "# skipcols=[] Can be used to load only certain columns of the different files\n",
    "data, filenames = load_data(files_dir=mcmc_model_dir, running_parameter=\"beta\",\n",
    "                            identifier=\"expectation_value\")  # , skipcols=[\"Config\"])\n",
    "from mcmctools.utils.json import load_configs\n",
    "sim_params, execution_params, running_parameter = load_configs(\n",
    "    files_dir=\"IsingModelMetropolis\", mode=\"expectation_value\", project_base_dir=\"./\")\n",
    "\n",
    "data"
   ]
  },
  {
   "cell_type": "markdown",
   "metadata": {},
   "source": [
    "### Transform to Balanced Dataset"
   ]
  },
  {
   "cell_type": "markdown",
   "metadata": {},
   "source": [
    "A trick is applied to obtain a mean value for the magnetization that is approximately zero for all temperatures\n",
    "without an external field - this trick should of course not be applied if the external field is finite."
   ]
  },
  {
   "cell_type": "code",
   "execution_count": null,
   "metadata": {},
   "outputs": [],
   "source": [
    "mean_values = data.groupby(\"beta\")[\"Mean\"].apply(lambda x: x.mean())\n",
    "percentages = (1 + mean_values) / 2.0\n",
    "\n",
    "for beta in data.index.unique(level=0):\n",
    "    random_index = None\n",
    "    num_to_be_changed_rows = int(len(data) / len(data.index.unique(level=0)) * (percentages - 0.5).loc[beta])\n",
    "    if num_to_be_changed_rows < 0:\n",
    "        random_index = (data.loc[beta][\"Mean\"] < 0).sample(abs(num_to_be_changed_rows)).index\n",
    "    elif num_to_be_changed_rows > 0:\n",
    "        random_index = (data.loc[beta][\"Mean\"] > 0).sample(abs(num_to_be_changed_rows)).index\n",
    "    if random_index is not None:\n",
    "        data.loc[(beta, random_index), (\"Config\", slice(None))] = data.loc[\n",
    "            (beta, random_index), (\"Config\", slice(None))].apply(lambda x: -1.0 * x)\n",
    "    data.Mean = data.Config.values.mean(axis=1)"
   ]
  },
  {
   "cell_type": "markdown",
   "metadata": {},
   "source": [
    "### Compute the Energy of the Ising Model from the Samples"
   ]
  },
  {
   "cell_type": "code",
   "execution_count": null,
   "metadata": {},
   "outputs": [],
   "source": [
    "from mcmctools.modes.expectation_value import compute_measures_over_config\n",
    "new_measures, data = compute_measures_over_config(data=data, measures=[\"Energy\", \"SecondMoment\", \"AbsMean\"], sim_params=sim_params)\n",
    "data"
   ]
  },
  {
   "cell_type": "markdown",
   "metadata": {},
   "source": [
    "### Alternativ Computation of the Expectation Values"
   ]
  },
  {
   "cell_type": "markdown",
   "metadata": {},
   "source": [
    "#### General Statistics"
   ]
  },
  {
   "cell_type": "code",
   "execution_count": null,
   "metadata": {},
   "outputs": [],
   "source": [
    "from pystatplottools.expectation_values.expectation_value import ExpectationValue\n",
    "\n",
    "ep = ExpectationValue(data=data)\n",
    "\n",
    "# Computes for the given columns the respective expectation values - The expectation values are computed seperately for each inverse temperature 'beta'\n",
    "ep.compute_expectation_value(columns=[\"Mean\", \"AbsMean\", \"SecondMoment\"],\n",
    "                             exp_values=[\"mean\", \"max\", \"min\", \"secondmoment\", \"fourthmoment\"])\n",
    "\n",
    "expectation_values = ep.expectation_values\n",
    "if \"Config\" in data.columns:\n",
    "    expectation_values = expectation_values.droplevel(level=1, axis=1)\n",
    "expectation_values"
   ]
  },
  {
   "cell_type": "markdown",
   "metadata": {},
   "source": [
    "#### Visualization"
   ]
  },
  {
   "cell_type": "code",
   "execution_count": null,
   "metadata": {},
   "outputs": [],
   "source": [
    "fig, axes = fma.newfig(1.4, ratio=0.5, ncols=2, figsize=(12, 5))\n",
    "\n",
    "betas = expectation_values.index.values.astype(np.float32)\n",
    "\n",
    "axes[0].plot(betas, expectation_values[\"Mean\"][\"mean\"], label=\"Mean\")\n",
    "axes[0].plot(betas, expectation_values[\"Mean\"][\"min\"], color=\"C{}\".format(1), ls=\"-.\", label=\"Min\")\n",
    "axes[0].plot(betas, expectation_values[\"Mean\"][\"max\"], color=\"C{}\".format(1), ls=\"--\", label=\"Max\")\n",
    "axes[0].plot(betas,\n",
    "             expectation_values[\"Mean\"][\"secondmoment\"] - expectation_values[\"Mean\"][\"mean\"].apply(\n",
    "                 lambda x: np.power(x, 2.0)\n",
    "             ),\n",
    "             color=\"C{}\".format(1), ls=\":\", label=\"Variance\")\n",
    "\n",
    "axes[0].legend()\n",
    "axes[0].set_xlabel(\"Beta\")\n",
    "axes[0].set_ylabel(\"Mean\")\n",
    "\n",
    "axes[1].plot(betas, expectation_values[\"AbsMean\"][\"mean\"], label=\"AbsMean\")\n",
    "axes[1].plot(betas, expectation_values[\"AbsMean\"][\"min\"], color=\"C{}\".format(1), ls=\"-.\", label=\"Min\")\n",
    "axes[1].plot(betas, expectation_values[\"AbsMean\"][\"max\"], color=\"C{}\".format(1), ls=\"--\", label=\"Max\")\n",
    "axes[1].plot(betas,\n",
    "             expectation_values[\"AbsMean\"][\"secondmoment\"] - expectation_values[\"AbsMean\"][\"mean\"].apply(\n",
    "                 lambda x: np.power(x, 2.0)\n",
    "             ), color=\"C{}\".format(1), ls=\":\", label=\"Variance\")\n",
    "\n",
    "axes[1].legend()\n",
    "axes[1].set_xlabel(\"Beta\")\n",
    "axes[1].set_ylabel(\"AbsMean\")\n",
    "\n",
    "plt.tight_layout()\n",
    "\n",
    "fma.savefig(results_dir, \"expectation_values\")"
   ]
  },
  {
   "cell_type": "markdown",
   "metadata": {},
   "source": [
    "#### Specific Heat and Binder Cumulant"
   ]
  },
  {
   "cell_type": "code",
   "execution_count": null,
   "metadata": {},
   "outputs": [],
   "source": [
    "# Add necessary expectation values to exisiting expectation values\n",
    "ep.compute_expectation_value(columns=[\"Mean\"], exp_values=[\"secondmoment\", \"fourthmoment\"])\n",
    "ep.compute_expectation_value(columns=[\"Energy\"], exp_values=[\"var\"])\n",
    "\n",
    "expectation_values = ep.expectation_values\n",
    "if \"Config\" in data.columns:\n",
    "    expectation_values = expectation_values.droplevel(level=1, axis=1)\n",
    "\n",
    "n_sites = len(data.iloc[0][\"Config\"])\n",
    "\n",
    "binder_cumulant = 1.0 - expectation_values[\"Mean\"][\"fourthmoment\"] / (\n",
    "        3.0 * expectation_values[\"Mean\"][\"secondmoment\"].pow(2.0))\n",
    "\n",
    "specific_heat = np.power(expectation_values.index.values.astype(np.float), 2.0) / n_sites * \\\n",
    "                expectation_values[\"Energy\"][\"var\"]\n",
    "observables = pd.concat([binder_cumulant, specific_heat], axis=1, keys=[\"BinderCumulant\", \"SpecificHeat\"])\n",
    "observables"
   ]
  },
  {
   "cell_type": "markdown",
   "metadata": {},
   "source": [
    "#### Visualization"
   ]
  },
  {
   "cell_type": "code",
   "execution_count": null,
   "metadata": {},
   "outputs": [],
   "source": [
    "fig, axes = fma.newfig(1.4, ratio=0.5, ncols=2, figsize=(12, 5))\n",
    "\n",
    "betas = observables.index.values.astype(np.float32)\n",
    "\n",
    "axes[0].plot(betas, observables[\"BinderCumulant\"])\n",
    "axes[0].set_xlabel(\"Beta\")\n",
    "axes[0].set_ylabel(\"Binder Cumulant\")\n",
    "\n",
    "axes[1].plot(betas, observables[\"SpecificHeat\"])\n",
    "axes[1].set_xlabel(\"Beta\")\n",
    "axes[1].set_ylabel(\"Specific Heat\")\n",
    "\n",
    "plt.tight_layout()\n",
    "\n",
    "fma.savefig(results_dir, \"observables\")"
   ]
  },
  {
   "cell_type": "markdown",
   "metadata": {},
   "source": [
    "### Histograms for the Different Inverse Temperatures"
   ]
  },
  {
   "cell_type": "code",
   "execution_count": null,
   "metadata": {},
   "outputs": [],
   "source": [
    "from pystatplottools.distributions.marginal_distribution import MarginalDistribution\n",
    "\n",
    "histograms = MarginalDistribution(data=data)\n",
    "\n",
    "range_min, range_max = histograms.extract_min_max_range_values(columns=[\"Mean\", \"AbsMean\", \"Energy\"])\n",
    "\n",
    "histograms.compute(\n",
    "    axes_indices=[\"Mean\", \"AbsMean\", \"Energy\"],\n",
    "    range_min=range_min,\n",
    "    range_max=range_max,\n",
    "    nbins=8,\n",
    "    statistic='probability',\n",
    "    bin_scales='linear'\n",
    ")\n",
    "\n",
    "linearized_histograms = histograms.linearize(\n",
    "    order_by_bin=True,\n",
    "    bin_alignment=\"center\"\n",
    ")\n",
    "linearized_histograms"
   ]
  },
  {
   "cell_type": "markdown",
   "metadata": {},
   "source": [
    "#### Visualization"
   ]
  },
  {
   "cell_type": "code",
   "execution_count": null,
   "metadata": {},
   "outputs": [],
   "source": [
    "from pystatplottools.utils.bins_and_alignment import revert_align_bins\n",
    "\n",
    "betas = data.index.unique(0)\n",
    "\n",
    "fig, axes = fma.newfig(1.8, nrows=3, ncols=7, ratio=0.5, figsize=(12, 5))\n",
    "for i, beta in enumerate(list(betas)[::4]):\n",
    "    for j, observable in enumerate([\"Mean\", \"AbsMean\", \"Energy\"]):\n",
    "        binedges = revert_align_bins(\n",
    "            data_range=linearized_histograms.loc[observable][\"bin\"].values,\n",
    "            bin_alignment=\"center\"\n",
    "        )\n",
    "        width = 0.9 * (binedges[1:] - binedges[:-1])\n",
    "\n",
    "        axes[j][i].bar(\n",
    "            x=linearized_histograms.loc[observable][\"bin\"].values,\n",
    "            height=linearized_histograms.loc[observable][beta].values,\n",
    "            width=width\n",
    "        )\n",
    "        axes[j][i].set_xlabel(observable)\n",
    "        from pystatplottools.visualization.utils import add_fancy_legend_box\n",
    "\n",
    "        add_fancy_legend_box(ax=axes[j][i], name=float(beta))\n",
    "\n",
    "for j, observable in enumerate([\"Mean\", \"AbsMean\", \"Energy\"]):\n",
    "    axes[j][0].set_ylabel(\"P(\" + observable + \")\")\n",
    "\n",
    "plt.tight_layout()\n",
    "\n",
    "fma.savefig(results_dir, \"histograms\")"
   ]
  },
  {
   "cell_type": "markdown",
   "metadata": {},
   "source": [
    "### Joint Distribution and Contour Plot - Probability of Mean vs. Temperature With Logarithmic Scale"
   ]
  },
  {
   "cell_type": "code",
   "execution_count": null,
   "metadata": {},
   "outputs": [],
   "source": [
    "from pystatplottools.distributions.joint_distribution import JointDistribution\n",
    "\n",
    "from pystatplottools.utils.utils import drop_index_level\n",
    "\n",
    "joint_distribution = JointDistribution(data=drop_index_level(data))\n",
    "\n",
    "range_min, range_max = joint_distribution.extract_min_max_range_values([\"Beta\", \"Mean\"])\n",
    "\n",
    "joint_distribution.compute(\n",
    "    axes_indices=[\"Beta\", \"Mean\"],\n",
    "    range_min=[0.05, range_min[1]],\n",
    "    range_max=[0.75, range_max[1]],\n",
    "    nbins=[7, 10],\n",
    "    statistic=\"probability\"\n",
    ")\n",
    "\n",
    "# The histograms can be accessed via: joint_distribution.distribution or linearized.\n",
    "\n",
    "# Transforms joint_distribution into a linear list of mid boundaries for the different bins\n",
    "# and the respective statistics for the values\n",
    "linearized_joint_distribution = joint_distribution.linearize(\n",
    "    output_statistics_name=\"prob\",\n",
    "    dataframes_as_columns=False,\n",
    "    bin_alignment=\"center\"\n",
    ")\n",
    "linearized_joint_distribution"
   ]
  },
  {
   "cell_type": "markdown",
   "metadata": {},
   "source": [
    "#### Visualization"
   ]
  },
  {
   "cell_type": "code",
   "execution_count": null,
   "metadata": {},
   "outputs": [],
   "source": [
    "# Contour plot\n",
    "fig, ax = fma.newfig(1.4, figsize=(10, 7))\n",
    "\n",
    "from pystatplottools.plotting.contour2D import Contour2D\n",
    "\n",
    "contour2D = Contour2D(\n",
    "    ax=ax,\n",
    "    data=linearized_joint_distribution.loc[\"df\"],\n",
    "    x=\"Beta\",  # possibility to rescale x and y axis or perform other operation for x axis\n",
    "    # like computing a mass difference\n",
    "    y=\"Mean\",\n",
    "    z_index=\"prob\"\n",
    ")\n",
    "\n",
    "norm, levs = contour2D.get_log_norm_and_levs(lev_min=0.00001, lev_max=1, lev_num=40)\n",
    "contour2D.set_ax_labels(x_label=\"Beta\", y_label=\"Mean\")\n",
    "cf = contour2D.pcolormesh(\n",
    "    norm=norm,\n",
    "    levs=levs,\n",
    "    cmap=\"PiYG\"\n",
    ")\n",
    "contour2D.add_colorbar(fig=fig, cf=cf, z_label=\"Probability\")\n",
    "\n",
    "plt.tight_layout()\n",
    "fma.savefig(results_dir, \"mean_vs_beta\")"
   ]
  },
  {
   "cell_type": "code",
   "execution_count": null,
   "metadata": {},
   "outputs": [],
   "source": []
  }
 ],
 "metadata": {
  "kernelspec": {
   "display_name": "Python 3",
   "language": "python",
   "name": "python3"
  },
  "language_info": {
   "codemirror_mode": {
    "name": "ipython",
    "version": 3
   },
   "file_extension": ".py",
   "mimetype": "text/x-python",
   "name": "python",
   "nbconvert_exporter": "python",
   "pygments_lexer": "ipython3",
   "version": "3.7.7"
  }
 },
 "nbformat": 4,
 "nbformat_minor": 4
}
